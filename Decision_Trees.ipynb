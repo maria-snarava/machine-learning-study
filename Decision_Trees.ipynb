{
 "cells": [
  {
   "cell_type": "code",
   "execution_count": 2,
   "id": "9f922fbb",
   "metadata": {},
   "outputs": [],
   "source": [
    "import pandas as pd\n",
    "import numpy as np\n",
    "import matplotlib.pyplot as plt"
   ]
  },
  {
   "cell_type": "markdown",
   "id": "32431b25",
   "metadata": {},
   "source": [
    "Therefore, we have two sets:\n",
    "\n",
    "- `X_train`: for each example, contains 3 features:\n",
    "            - Ear Shape (1 if pointy, 0 otherwise)\n",
    "            - Face Shape (1 if round, 0 otherwise)\n",
    "            - Whiskers (1 if present, 0 otherwise)\n",
    "            \n",
    "- `y_train`: whether the animal is a cat\n",
    "            - 1 if the animal is a cat\n",
    "            - 0 otherwise"
   ]
  },
  {
   "cell_type": "code",
   "execution_count": 3,
   "id": "b0e895a8",
   "metadata": {},
   "outputs": [],
   "source": [
    "X_train = np.array([[1, 1, 1],\n",
    "[0, 0, 1],\n",
    " [0, 1, 0],\n",
    " [1, 0, 1],\n",
    " [1, 1, 1],\n",
    " [1, 1, 0],\n",
    " [0, 0, 0],\n",
    " [1, 1, 0],\n",
    " [0, 1, 0],\n",
    " [0, 1, 0]])\n",
    "\n",
    "y_train = np.array([1, 1, 0, 0, 1, 1, 0, 1, 0, 0])"
   ]
  },
  {
   "cell_type": "code",
   "execution_count": 4,
   "id": "01cc3397",
   "metadata": {},
   "outputs": [
    {
     "name": "stdout",
     "output_type": "stream",
     "text": [
      "1.0\n"
     ]
    }
   ],
   "source": [
    "def entropy(p):\n",
    "    if p == 0 or p == 1:\n",
    "        return 0\n",
    "    else:\n",
    "        return -p * np.log2(p) - (1- p)*np.log2(1 - p)\n",
    "    \n",
    "print(entropy(0.5))"
   ]
  },
  {
   "cell_type": "code",
   "execution_count": 44,
   "id": "61dde70b",
   "metadata": {},
   "outputs": [],
   "source": [
    "#To illustrate, let's compute the information gain \n",
    "#if we split the node for each of the features. \n",
    "def split_indices(X, index_feature):\n",
    "    \"\"\"Given a dataset and a index feature, return two lists for the two split nodes, the left node has the animals that have \n",
    "    that feature = 1 and the right node those that have the feature = 0 \n",
    "    index feature = 0 => ear shape\n",
    "    index feature = 1 => face shape\n",
    "    index feature = 2 => whiskers\n",
    "    \"\"\"\n",
    "    left_indices = []\n",
    "    right_indices = []\n",
    "    for i,x in enumerate(X):\n",
    "        if x[index_feature] == 1:\n",
    "            left_indices.append(i)\n",
    "        else:\n",
    "            right_indices.append(i)\n",
    "    return left_indices, right_indices"
   ]
  },
  {
   "cell_type": "code",
   "execution_count": 6,
   "id": "d5ee067a",
   "metadata": {},
   "outputs": [
    {
     "data": {
      "text/plain": [
       "([0, 3, 4, 5, 7], [1, 2, 6, 8, 9])"
      ]
     },
     "execution_count": 6,
     "metadata": {},
     "output_type": "execute_result"
    }
   ],
   "source": [
    "split_indices(X_train, 0)"
   ]
  },
  {
   "cell_type": "code",
   "execution_count": 7,
   "id": "6dc62d61",
   "metadata": {},
   "outputs": [],
   "source": [
    "def weighted_entropy(X,y,left_indices,right_indices):\n",
    "    \"\"\"\n",
    "    This function takes the splitted dataset, the indices we chose to split and returns the weighted entropy.\n",
    "    \"\"\"\n",
    "    w_left = len(left_indices)/len(X)\n",
    "    w_right = len(right_indices)/len(X)\n",
    "    p_left = sum(y[left_indices])/len(left_indices)\n",
    "    p_right = sum(y[right_indices])/len(right_indices)\n",
    "    \n",
    "    weighted_entropy = w_left * entropy(p_left) + w_right * entropy(p_right)\n",
    "    return weighted_entropy"
   ]
  },
  {
   "cell_type": "code",
   "execution_count": 8,
   "id": "cd607bad",
   "metadata": {},
   "outputs": [
    {
     "data": {
      "text/plain": [
       "0.7219280948873623"
      ]
     },
     "execution_count": 8,
     "metadata": {},
     "output_type": "execute_result"
    }
   ],
   "source": [
    "left_indices, right_indices = split_indices(X_train, 0)\n",
    "weighted_entropy(X_train, y_train, left_indices, right_indices)"
   ]
  },
  {
   "cell_type": "code",
   "execution_count": 9,
   "id": "20b061da",
   "metadata": {},
   "outputs": [],
   "source": [
    "def information_gain(X, y, left_indices, right_indices):\n",
    "    \"\"\"\n",
    "    Here, X has the elements in the node and y is theirs respectives classes\n",
    "    \"\"\"\n",
    "    p_node = sum(y)/len(y)\n",
    "    h_node = entropy(p_node)\n",
    "    w_entropy = weighted_entropy(X,y,left_indices,right_indices)\n",
    "    return h_node - w_entropy"
   ]
  },
  {
   "cell_type": "code",
   "execution_count": 10,
   "id": "bb5c597f",
   "metadata": {},
   "outputs": [
    {
     "data": {
      "text/plain": [
       "0.2780719051126377"
      ]
     },
     "execution_count": 10,
     "metadata": {},
     "output_type": "execute_result"
    }
   ],
   "source": [
    "information_gain(X_train, y_train, left_indices, right_indices)"
   ]
  },
  {
   "cell_type": "code",
   "execution_count": 19,
   "id": "53508282",
   "metadata": {},
   "outputs": [
    {
     "name": "stdout",
     "output_type": "stream",
     "text": [
      "Feature: Ear Shape, information gain if we split the root node using this feature: 0.28\n",
      "Feature: Face Shape, information gain if we split the root node using this feature: 0.03\n",
      "Feature: Whiskers, information gain if we split the root node using this feature: 0.12\n",
      "Coosed Feature: 0 : Ear Shape\n"
     ]
    },
    {
     "data": {
      "text/plain": [
       "0"
      ]
     },
     "execution_count": 19,
     "metadata": {},
     "output_type": "execute_result"
    }
   ],
   "source": [
    "\n",
    "def chosing_feature_for_node(features):\n",
    "    i_gains = np.zeros(len(features))\n",
    "    for i, feature_name in enumerate(features):\n",
    "        left_indices, right_indices = split_indices(X_train, i)\n",
    "        i_gain = information_gain(X_train, y_train, left_indices, right_indices)\n",
    "        i_gains[i] = i_gain\n",
    "        print(f\"Feature: {feature_name}, information gain if we split the root node using this feature: {i_gain:.2f}\")\n",
    "    chosed_feature = np.argmax(i_gains)\n",
    "    print(f\"Choosed Feature: {chosed_feature} : {features[chosed_feature]}\")\n",
    "    return chosed_feature\n"
   ]
  },
  {
   "cell_type": "code",
   "execution_count": 54,
   "id": "37425739",
   "metadata": {},
   "outputs": [
    {
     "name": "stdout",
     "output_type": "stream",
     "text": [
      "Current Level: 0\n",
      "Feature: Ear Shape, information gain if we split the root node using this feature: 0.28\n",
      "Feature: Face Shape, information gain if we split the root node using this feature: 0.03\n",
      "Feature: Whiskers, information gain if we split the root node using this feature: 0.12\n",
      "Coosed Feature: 0 : Ear Shape\n",
      "Tree: [[{'Ear Shape': [[0, 3, 4, 5, 7], [1, 2, 6, 8, 9]]}, 0], [0, 0], [0, 0]]\n",
      "Current Level: 1\n",
      "Feature: Face Shape, information gain if we split the root node using this feature: 0.28\n",
      "Feature: Whiskers, information gain if we split the root node using this feature: 0.03\n",
      "Coosed Feature: 0 : Face Shape\n",
      "Tree: [[{'Ear Shape': [[0, 3, 4, 5, 7], [1, 2, 6, 8, 9]]}, 0], [{'Face Shape': [[0, 1, 2, 3, 4], []]}, 0], [0, 0]]\n",
      "Current Level: 2\n",
      "Level completed by max depth!\n",
      "Current Level: 2\n",
      "Level completed by max depth!\n",
      "Current Level: 1\n",
      "Feature: Whiskers, information gain if we split the root node using this feature: 0.28\n",
      "Coosed Feature: 0 : Whiskers\n",
      "Tree: [[{'Ear Shape': [[0, 3, 4, 5, 7], [1, 2, 6, 8, 9]]}, 0], [{'Face Shape': [[0, 1, 2, 3, 4], []]}, {'Whiskers': [[], [0, 1, 2, 3, 4]]}], [0, 0]]\n",
      "Current Level: 2\n",
      "Level completed by max depth!\n",
      "Current Level: 2\n",
      "Level completed by max depth!\n"
     ]
    }
   ],
   "source": [
    "def prepare_train_set(X_train, y_train, indices):\n",
    "    result_X_train = []\n",
    "    for val in indices:\n",
    "        result_X_train.append(X_train[val])\n",
    "        \n",
    "    result_y_train = []\n",
    "    for val in indices:\n",
    "        result_y_train.append(y_train[val])\n",
    "    return result_X_train, result_y_train\n",
    "\n",
    "def build_tree_recursive(X_train, y_train, features, tree, is_right = 0, max_depth=2, current_depth=0):\n",
    "    print(f\"Current Level: {current_depth}\")\n",
    "    if current_depth >= max_depth:\n",
    "        print(f\"Level completed by max depth!\")\n",
    "        return;\n",
    "    chosed_feature = chosing_feature_for_node(features)\n",
    "    left_indices, right_indices = split_indices(X_train, chosed_feature)\n",
    "    tree[current_depth][is_right] = {features[chosed_feature]:[left_indices, right_indices]}\n",
    "    print(f\"Tree: {tree}\")\n",
    "    del(features[chosed_feature])\n",
    "    \n",
    "    if len(left_indices) >= 0:        \n",
    "        left_X_train, left_y_train = prepare_train_set(X_train, y_train, left_indices)\n",
    "        build_tree_recursive(left_X_train, left_y_train, features, tree, 0, max_depth = 2, current_depth=current_depth+1)\n",
    "    else:\n",
    "        print(f\"Level completed by reaching 100% class!\")\n",
    "        return;\n",
    "    if len(right_indices) >= 0:\n",
    "        right_X_train, right_y_train = prepare_train_set(X_train, y_train, right_indices)\n",
    "        build_tree_recursive(right_X_train, right_y_train, features, tree, 1, max_depth = 2, current_depth=current_depth+1)\n",
    "    else:\n",
    "        print(f\"Level completed by reaching 100% class!\")\n",
    "        return;\n",
    "    \n",
    "features = ['Ear Shape', 'Face Shape', 'Whiskers']\n",
    "tree = [[0, 0], [0, 0], [0, 0]]\n",
    "build_tree_recursive(X_train, y_train, features, max_depth=2, current_depth=0, tree = tree)"
   ]
  },
  {
   "cell_type": "code",
   "execution_count": null,
   "id": "5696a5d1",
   "metadata": {},
   "outputs": [],
   "source": []
  },
  {
   "cell_type": "code",
   "execution_count": null,
   "id": "a4e86ceb",
   "metadata": {},
   "outputs": [],
   "source": []
  }
 ],
 "metadata": {
  "kernelspec": {
   "display_name": "Python 3 (ipykernel)",
   "language": "python",
   "name": "python3"
  },
  "language_info": {
   "codemirror_mode": {
    "name": "ipython",
    "version": 3
   },
   "file_extension": ".py",
   "mimetype": "text/x-python",
   "name": "python",
   "nbconvert_exporter": "python",
   "pygments_lexer": "ipython3",
   "version": "3.11.2"
  }
 },
 "nbformat": 4,
 "nbformat_minor": 5
}
