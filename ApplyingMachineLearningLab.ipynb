{
 "cells": [
  {
   "cell_type": "markdown",
   "id": "0aeda375",
   "metadata": {},
   "source": [
    "# Practice Lab: Advice for Applying Machine Learning\n",
    "[ 1 - Packages ](#1)\n",
    "<a name=\"1\"></a>\n",
    "## 1 - Packages \n"
   ]
  },
  {
   "cell_type": "code",
   "execution_count": 4,
   "id": "f9de1df5",
   "metadata": {},
   "outputs": [],
   "source": [
    "import numpy as np\n",
    "import matplotlib.pyplot as plt\n",
    "from sklearn.linear_model import LinearRegression, Ridge\n",
    "from sklearn.preprocessing import StandardScaler, PolynomialFeatures\n",
    "from sklearn.model_selection import train_test_split\n",
    "from sklearn.metrics import mean_squared_error\n",
    "import tensorflow as tf\n",
    "from tensorflow.keras.models import Sequential\n",
    "from tensorflow.keras.layers import Dense\n",
    "from tensorflow.keras.activations import relu,linear\n",
    "from tensorflow.keras.losses import SparseCategoricalCrossentropy\n",
    "from tensorflow.keras.optimizers import Adam\n",
    "\n",
    "import logging\n",
    "logging.getLogger(\"tensorflow\").setLevel(logging.ERROR)\n",
    "\n",
    "tf.keras.backend.set_floatx('float64')\n",
    "\n",
    "tf.autograph.set_verbosity(0)"
   ]
  },
  {
   "cell_type": "code",
   "execution_count": 31,
   "id": "efef31da",
   "metadata": {},
   "outputs": [
    {
     "name": "stdout",
     "output_type": "stream",
     "text": [
      "X.shape (23,) y.shape (23,)\n",
      "X_train.shape (15,) y_train.shape (15,)\n",
      "X_test.shape (8,) y_test.shape (8,)\n"
     ]
    }
   ],
   "source": [
    "# Generate some data\n",
    "X = np.array([1, 2, 5, 8, 9, 12, 17, 19, 22, 34, 25, 33, 38, 41, 42, 46, 47, 52, 54, 58, 60, 62, 65])\n",
    "y = np.array([220, 250, 340, 390, 400, 450, 465, 489, 501, 523, 544, 567, 588, 600, 643, 654, 666, 678, 679, 690, 695, 699, 705])\n",
    "x_ideal = [1, 65]\n",
    "y_ideal= [220,745]\n",
    "print(\"X.shape\", X.shape, \"y.shape\", y.shape)\n",
    "\n",
    "#split the data using sklearn routine \n",
    "X_train, X_test, y_train, y_test = train_test_split(X,y,test_size=0.33, random_state=1)\n",
    "print(\"X_train.shape\", X_train.shape, \"y_train.shape\", y_train.shape)\n",
    "print(\"X_test.shape\", X_test.shape, \"y_test.shape\", y_test.shape)"
   ]
  },
  {
   "cell_type": "code",
   "execution_count": 32,
   "id": "2c8c468a",
   "metadata": {},
   "outputs": [
    {
     "data": {
      "image/png": "[encoded data removed]",
      "text/plain": [
       "<Figure size 400x400 with 1 Axes>"
      ]
     },
     "metadata": {},
     "output_type": "display_data"
    }
   ],
   "source": [
    "fig, ax = plt.subplots(1,1,figsize=(4,4))\n",
    "ax.plot(x_ideal, y_ideal, \"--\", color = \"orangered\", label=\"y_ideal\", lw=1)\n",
    "ax.set_title(\"Training, Test\",fontsize = 14)\n",
    "ax.set_xlabel(\"x\")\n",
    "ax.set_ylabel(\"y\")\n",
    "\n",
    "ax.scatter(X_train, y_train, color = \"red\",           label=\"train\")\n",
    "ax.scatter(X_test, y_test,   color = \"blue\",   label=\"test\")\n",
    "ax.legend(loc='upper left')\n",
    "plt.show()"
   ]
  },
  {
   "cell_type": "markdown",
   "id": "c7ca09da",
   "metadata": {},
   "source": [
    "### 2.2 Error calculation for model evaluation, linear regression"
   ]
  },
  {
   "cell_type": "code",
   "execution_count": 34,
   "id": "588be980",
   "metadata": {},
   "outputs": [
    {
     "data": {
      "text/plain": [
       "0.0050000000000000305"
      ]
     },
     "execution_count": 34,
     "metadata": {},
     "output_type": "execute_result"
    }
   ],
   "source": [
    "def eval_mse(y, yhat):\n",
    "    \"\"\" \n",
    "    Calculate the mean squared error on a data set.\n",
    "    Args:\n",
    "      y    : (ndarray  Shape (m,) or (m,1))  target value of each example\n",
    "      yhat : (ndarray  Shape (m,) or (m,1))  predicted value of each example\n",
    "    Returns:\n",
    "      err: (scalar)             \n",
    "    \"\"\"\n",
    "    m = len(y)\n",
    "    err = 0.0\n",
    "    for i in range(m):\n",
    "    ### START CODE HERE ### \n",
    "       err += (y[i] - yhat[i])**2\n",
    "        \n",
    "    err = err / (2 * m)\n",
    "        \n",
    "    \n",
    "    ### END CODE HERE ### \n",
    "    \n",
    "    return(err)\n",
    "\n",
    "y_hat = np.array([2.4, 4.2])\n",
    "y_tmp = np.array([2.3, 4.1])\n",
    "eval_mse(y_hat, y_tmp)"
   ]
  },
  {
   "cell_type": "markdown",
   "id": "7a9dfcaa",
   "metadata": {},
   "source": [
    "### 2.3 Compare performance on training and test data"
   ]
  },
  {
   "cell_type": "code",
   "execution_count": null,
   "id": "fe19f691",
   "metadata": {},
   "outputs": [],
   "source": [
    "# create a model in sklearn, train on training data\n",
    "degree = 10\n",
    "lmodel = lin_model(degree)\n",
    "lmodel.fit(X_train, y_train)\n",
    "\n",
    "# predict on training data, find training error\n",
    "yhat = lmodel.predict(X_train)\n",
    "err_train = lmodel.mse(y_train, yhat)\n",
    "\n",
    "# predict on test data, find error\n",
    "yhat = lmodel.predict(X_test)\n",
    "err_test = lmodel.mse(y_test, yhat)\n",
    "\n",
    "max_degree = 9\n",
    "err_train = np.zeros(max_degree)    \n",
    "err_cv = np.zeros(max_degree)      \n",
    "x = np.linspace(0,int(X.max()),100)  \n",
    "y_pred = np.zeros((100,max_degree))  #columns are lines to plot\n",
    "\n",
    "for degree in range(max_degree):\n",
    "    lmodel = lin_model(degree+1)\n",
    "    lmodel.fit(X_train, y_train)\n",
    "    yhat = lmodel.predict(X_train)\n",
    "    err_train[degree] = lmodel.mse(y_train, yhat)\n",
    "    yhat = lmodel.predict(X_cv)\n",
    "    err_cv[degree] = lmodel.mse(y_cv, yhat)\n",
    "    y_pred[:,degree] = lmodel.predict(x)\n",
    "    \n",
    "optimal_degree = np.argmin(err_cv)+1"
   ]
  },
  {
   "cell_type": "markdown",
   "id": "b25be441",
   "metadata": {},
   "source": [
    "### 3.3 Tuning Regularization."
   ]
  },
  {
   "cell_type": "code",
   "execution_count": null,
   "id": "d9e6f418",
   "metadata": {},
   "outputs": [],
   "source": [
    "lambda_range = np.array([0.0, 1e-6, 1e-5, 1e-4,1e-3,1e-2, 1e-1,1,10,100])\n",
    "num_steps = len(lambda_range)\n",
    "degree = 10\n",
    "err_train = np.zeros(num_steps)    \n",
    "err_cv = np.zeros(num_steps)       \n",
    "x = np.linspace(0,int(X.max()),100) \n",
    "y_pred = np.zeros((100,num_steps))  #columns are lines to plot\n",
    "\n",
    "for i in range(num_steps):\n",
    "    lambda_= lambda_range[i]\n",
    "    lmodel = lin_model(degree, regularization=True, lambda_=lambda_)\n",
    "    lmodel.fit(X_train, y_train)\n",
    "    yhat = lmodel.predict(X_train)\n",
    "    err_train[i] = lmodel.mse(y_train, yhat)\n",
    "    yhat = lmodel.predict(X_cv)\n",
    "    err_cv[i] = lmodel.mse(y_cv, yhat)\n",
    "    y_pred[:,i] = lmodel.predict(x)\n",
    "    \n",
    "optimal_reg_idx = np.argmin(err_cv) "
   ]
  }
 ],
 "metadata": {
  "kernelspec": {
   "display_name": "Python 3 (ipykernel)",
   "language": "python",
   "name": "python3"
  },
  "language_info": {
   "codemirror_mode": {
    "name": "ipython",
    "version": 3
   },
   "file_extension": ".py",
   "mimetype": "text/x-python",
   "name": "python",
   "nbconvert_exporter": "python",
   "pygments_lexer": "ipython3",
   "version": "3.11.2"
  }
 },
 "nbformat": 4,
 "nbformat_minor": 5
}
